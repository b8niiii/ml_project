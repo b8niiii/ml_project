{
 "cells": [
  {
   "cell_type": "markdown",
   "id": "8503e0f0",
   "metadata": {},
   "source": [
    "# Machine Learning Project - Rock Paper Scissors - Alessandro Bottoni\n",
    "## Chapter 0: Data Acquisition & Settings\n",
    "Data have been downloaded and stored in the data/raw folder. There are three subfolders: one for 'Rock' (726 images), one for 'Paper' (710 images) and one for 'Scissors' (752 images), for a grand total of 2188 images.\n"
   ]
  },
  {
   "cell_type": "markdown",
   "id": "ad246707",
   "metadata": {},
   "source": [
    "In the following cell we configure base settings, imports and set a reproducible seed."
   ]
  },
  {
   "cell_type": "code",
   "execution_count": 12,
   "id": "4c43dd0c",
   "metadata": {},
   "outputs": [
    {
     "ename": "ModuleNotFoundError",
     "evalue": "No module named 'sklearn'",
     "output_type": "error",
     "traceback": [
      "\u001b[31m---------------------------------------------------------------------------\u001b[39m",
      "\u001b[31mModuleNotFoundError\u001b[39m                       Traceback (most recent call last)",
      "\u001b[36mCell\u001b[39m\u001b[36m \u001b[39m\u001b[32mIn[12]\u001b[39m\u001b[32m, line 15\u001b[39m\n\u001b[32m     13\u001b[39m \u001b[38;5;28;01mimport\u001b[39;00m\u001b[38;5;250m \u001b[39m\u001b[34;01mnumpy\u001b[39;00m\u001b[38;5;250m \u001b[39m\u001b[38;5;28;01mas\u001b[39;00m\u001b[38;5;250m \u001b[39m\u001b[34;01mnp\u001b[39;00m\n\u001b[32m     14\u001b[39m \u001b[38;5;28;01mfrom\u001b[39;00m\u001b[38;5;250m \u001b[39m\u001b[34;01mPIL\u001b[39;00m\u001b[38;5;250m \u001b[39m\u001b[38;5;28;01mimport\u001b[39;00m Image\n\u001b[32m---> \u001b[39m\u001b[32m15\u001b[39m \u001b[38;5;28;01mfrom\u001b[39;00m\u001b[38;5;250m \u001b[39m\u001b[34;01msklearn\u001b[39;00m\u001b[34;01m.\u001b[39;00m\u001b[34;01mmodel_selection\u001b[39;00m\u001b[38;5;250m \u001b[39m\u001b[38;5;28;01mimport\u001b[39;00m train_test_split\n\u001b[32m     17\u001b[39m \u001b[38;5;66;03m# Reproducibility\u001b[39;00m\n\u001b[32m     18\u001b[39m \u001b[38;5;28;01mimport\u001b[39;00m\u001b[38;5;250m \u001b[39m\u001b[34;01mos\u001b[39;00m\n",
      "\u001b[31mModuleNotFoundError\u001b[39m: No module named 'sklearn'"
     ]
    }
   ],
   "source": [
    "# Config\n",
    "RAW_DIR = \"data/raw\"          # contains subfolders rock/, paper/, scissors/\n",
    "OUT_DIR = \"data/processed\"    # where we'll write train/val/test\n",
    "IMG_SIZE = (128, 128)         # (H, W)\n",
    "TEST_SIZE = 0.15              # final held-out test\n",
    "VAL_SIZE = 0.15               # validation (from the remaining after test)\n",
    "SEED = 42\n",
    "OVERWRITE = True\n",
    "\n",
    "# Imports\n",
    "from pathlib import Path\n",
    "import shutil, random, json\n",
    "import numpy as np\n",
    "from PIL import Image\n",
    "from sklearn.model_selection import train_test_split\n",
    "\n",
    "# Reproducibility\n",
    "import os\n",
    "def set_seeds(seed=SEED): # we already set SEED = 42\n",
    "    os.environ[\"PYTHONHASHSEED\"] = str(seed) # controls how python randomizes hash values\n",
    "    random.seed(seed) # fixes the seed for python built in random module\n",
    "    np.random.seed(seed) # same but for numpy random generation\n",
    "\n",
    "set_seeds()\n",
    "Path(OUT_DIR).mkdir(parents=True, exist_ok=True) #\n",
    "\n"
   ]
  }
 ],
 "metadata": {
  "kernelspec": {
   "display_name": "rps-venv",
   "language": "python",
   "name": "rps-venv"
  },
  "language_info": {
   "codemirror_mode": {
    "name": "ipython",
    "version": 3
   },
   "file_extension": ".py",
   "mimetype": "text/x-python",
   "name": "python",
   "nbconvert_exporter": "python",
   "pygments_lexer": "ipython3",
   "version": "3.11.9"
  }
 },
 "nbformat": 4,
 "nbformat_minor": 5
}
